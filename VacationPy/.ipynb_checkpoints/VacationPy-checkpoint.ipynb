{
 "cells": [
  {
   "cell_type": "markdown",
   "metadata": {},
   "source": [
    "# VacationPy\n",
    "----\n",
    "\n",
    "#### Note\n",
    "* Keep an eye on your API usage. Use https://developers.google.com/maps/reporting/gmp-reporting as reference for how to monitor your usage and billing.\n",
    "\n",
    "* Instructions have been included for each segment. You do not have to follow them exactly, but they are included to help you think through the steps."
   ]
  },
  {
   "cell_type": "code",
   "execution_count": 1,
   "metadata": {},
   "outputs": [],
   "source": [
    "# Dependencies and Setup\n",
    "import matplotlib.pyplot as plt\n",
    "import pandas as pd\n",
    "import numpy as np\n",
    "import requests\n",
    "import gmaps\n",
    "import os\n",
    "\n",
    "# Import API key\n",
    "from api_keys import g_key"
   ]
  },
  {
   "cell_type": "markdown",
   "metadata": {},
   "source": [
    "### Store Part I results into DataFrame\n",
    "* Load the csv exported in Part I to a DataFrame"
   ]
  },
  {
   "cell_type": "code",
   "execution_count": 2,
   "metadata": {},
   "outputs": [
    {
     "data": {
      "text/html": [
       "<div>\n",
       "<style scoped>\n",
       "    .dataframe tbody tr th:only-of-type {\n",
       "        vertical-align: middle;\n",
       "    }\n",
       "\n",
       "    .dataframe tbody tr th {\n",
       "        vertical-align: top;\n",
       "    }\n",
       "\n",
       "    .dataframe thead th {\n",
       "        text-align: right;\n",
       "    }\n",
       "</style>\n",
       "<table border=\"1\" class=\"dataframe\">\n",
       "  <thead>\n",
       "    <tr style=\"text-align: right;\">\n",
       "      <th></th>\n",
       "      <th>City</th>\n",
       "      <th>Cloudiness</th>\n",
       "      <th>Country</th>\n",
       "      <th>Date</th>\n",
       "      <th>Humidity</th>\n",
       "      <th>Lat</th>\n",
       "      <th>Long</th>\n",
       "      <th>Max Temp</th>\n",
       "      <th>Wind Speed</th>\n",
       "    </tr>\n",
       "  </thead>\n",
       "  <tbody>\n",
       "    <tr>\n",
       "      <th>0</th>\n",
       "      <td>diamantina</td>\n",
       "      <td>0.0</td>\n",
       "      <td>BR</td>\n",
       "      <td>1.615614e+09</td>\n",
       "      <td>93.0</td>\n",
       "      <td>-18.2494</td>\n",
       "      <td>-43.6003</td>\n",
       "      <td>59.70</td>\n",
       "      <td>2.51</td>\n",
       "    </tr>\n",
       "    <tr>\n",
       "      <th>1</th>\n",
       "      <td>avera</td>\n",
       "      <td>1.0</td>\n",
       "      <td>US</td>\n",
       "      <td>1.615614e+09</td>\n",
       "      <td>88.0</td>\n",
       "      <td>33.1940</td>\n",
       "      <td>-82.5271</td>\n",
       "      <td>62.01</td>\n",
       "      <td>6.17</td>\n",
       "    </tr>\n",
       "    <tr>\n",
       "      <th>2</th>\n",
       "      <td>bitlis</td>\n",
       "      <td>0.0</td>\n",
       "      <td>TR</td>\n",
       "      <td>1.615614e+09</td>\n",
       "      <td>79.0</td>\n",
       "      <td>38.5000</td>\n",
       "      <td>42.2500</td>\n",
       "      <td>14.00</td>\n",
       "      <td>3.44</td>\n",
       "    </tr>\n",
       "    <tr>\n",
       "      <th>3</th>\n",
       "      <td>itoman</td>\n",
       "      <td>75.0</td>\n",
       "      <td>JP</td>\n",
       "      <td>1.615614e+09</td>\n",
       "      <td>56.0</td>\n",
       "      <td>26.1247</td>\n",
       "      <td>127.6694</td>\n",
       "      <td>69.01</td>\n",
       "      <td>14.97</td>\n",
       "    </tr>\n",
       "    <tr>\n",
       "      <th>4</th>\n",
       "      <td>hobart</td>\n",
       "      <td>90.0</td>\n",
       "      <td>AU</td>\n",
       "      <td>1.615614e+09</td>\n",
       "      <td>42.0</td>\n",
       "      <td>-42.8794</td>\n",
       "      <td>147.3294</td>\n",
       "      <td>68.00</td>\n",
       "      <td>21.85</td>\n",
       "    </tr>\n",
       "  </tbody>\n",
       "</table>\n",
       "</div>"
      ],
      "text/plain": [
       "         City  Cloudiness Country          Date  Humidity      Lat      Long  \\\n",
       "0  diamantina         0.0      BR  1.615614e+09      93.0 -18.2494  -43.6003   \n",
       "1       avera         1.0      US  1.615614e+09      88.0  33.1940  -82.5271   \n",
       "2      bitlis         0.0      TR  1.615614e+09      79.0  38.5000   42.2500   \n",
       "3      itoman        75.0      JP  1.615614e+09      56.0  26.1247  127.6694   \n",
       "4      hobart        90.0      AU  1.615614e+09      42.0 -42.8794  147.3294   \n",
       "\n",
       "   Max Temp  Wind Speed  \n",
       "0     59.70        2.51  \n",
       "1     62.01        6.17  \n",
       "2     14.00        3.44  \n",
       "3     69.01       14.97  \n",
       "4     68.00       21.85  "
      ]
     },
     "execution_count": 2,
     "metadata": {},
     "output_type": "execute_result"
    }
   ],
   "source": [
    "weather_data_to_load = \"../WeatherPy/weather_df.csv\"\n",
    "weather_data = pd.read_csv(weather_data_to_load)\n",
    "dropna_weather_data = weather_data.dropna()\n",
    "del dropna_weather_data[\"Unnamed: 0\"]\n",
    "dropna_weather_data.head()"
   ]
  },
  {
   "cell_type": "markdown",
   "metadata": {},
   "source": [
    "### Humidity Heatmap\n",
    "* Configure gmaps.\n",
    "* Use the Lat and Lng as locations and Humidity as the weight.\n",
    "* Add Heatmap layer to map."
   ]
  },
  {
   "cell_type": "code",
   "execution_count": 3,
   "metadata": {},
   "outputs": [],
   "source": [
    "gmaps.configure(api_key=g_key)\n",
    "\n",
    "locations = dropna_weather_data[[\"Lat\", \"Long\"]]\n",
    "\n",
    "humidity = dropna_weather_data[\"Humidity\"].astype(float)"
   ]
  },
  {
   "cell_type": "code",
   "execution_count": 4,
   "metadata": {},
   "outputs": [
    {
     "data": {
      "application/vnd.jupyter.widget-view+json": {
       "model_id": "f170a3e9d0464c01b5418490aaad1149",
       "version_major": 2,
       "version_minor": 0
      },
      "text/plain": [
       "Figure(layout=FigureLayout(height='420px'))"
      ]
     },
     "metadata": {},
     "output_type": "display_data"
    }
   ],
   "source": [
    "fig = gmaps.figure()\n",
    "\n",
    "heat_layer = gmaps.heatmap_layer(locations, weights=humidity, \n",
    "                                 dissipating=False, max_intensity=100,\n",
    "                                 point_radius=2)\n",
    "\n",
    "fig.add_layer(heat_layer)\n",
    "\n",
    "fig"
   ]
  },
  {
   "cell_type": "markdown",
   "metadata": {},
   "source": [
    "### Create new DataFrame fitting weather criteria\n",
    "* Narrow down the cities to fit weather conditions.\n",
    "* Drop any rows will null values."
   ]
  },
  {
   "cell_type": "code",
   "execution_count": 5,
   "metadata": {},
   "outputs": [
    {
     "data": {
      "text/html": [
       "<div>\n",
       "<style scoped>\n",
       "    .dataframe tbody tr th:only-of-type {\n",
       "        vertical-align: middle;\n",
       "    }\n",
       "\n",
       "    .dataframe tbody tr th {\n",
       "        vertical-align: top;\n",
       "    }\n",
       "\n",
       "    .dataframe thead th {\n",
       "        text-align: right;\n",
       "    }\n",
       "</style>\n",
       "<table border=\"1\" class=\"dataframe\">\n",
       "  <thead>\n",
       "    <tr style=\"text-align: right;\">\n",
       "      <th></th>\n",
       "      <th>City</th>\n",
       "      <th>Cloudiness</th>\n",
       "      <th>Country</th>\n",
       "      <th>Date</th>\n",
       "      <th>Humidity</th>\n",
       "      <th>Lat</th>\n",
       "      <th>Long</th>\n",
       "      <th>Max Temp</th>\n",
       "      <th>Wind Speed</th>\n",
       "    </tr>\n",
       "  </thead>\n",
       "  <tbody>\n",
       "    <tr>\n",
       "      <th>0</th>\n",
       "      <td>iquique</td>\n",
       "      <td>0.0</td>\n",
       "      <td>CL</td>\n",
       "      <td>1.615614e+09</td>\n",
       "      <td>56.0</td>\n",
       "      <td>-20.2208</td>\n",
       "      <td>-70.1431</td>\n",
       "      <td>71.6</td>\n",
       "      <td>3.44</td>\n",
       "    </tr>\n",
       "    <tr>\n",
       "      <th>1</th>\n",
       "      <td>panzhihua</td>\n",
       "      <td>0.0</td>\n",
       "      <td>CN</td>\n",
       "      <td>1.615614e+09</td>\n",
       "      <td>27.0</td>\n",
       "      <td>26.5851</td>\n",
       "      <td>101.7128</td>\n",
       "      <td>75.0</td>\n",
       "      <td>1.32</td>\n",
       "    </tr>\n",
       "  </tbody>\n",
       "</table>\n",
       "</div>"
      ],
      "text/plain": [
       "        City  Cloudiness Country          Date  Humidity      Lat      Long  \\\n",
       "0    iquique         0.0      CL  1.615614e+09      56.0 -20.2208  -70.1431   \n",
       "1  panzhihua         0.0      CN  1.615614e+09      27.0  26.5851  101.7128   \n",
       "\n",
       "   Max Temp  Wind Speed  \n",
       "0      71.6        3.44  \n",
       "1      75.0        1.32  "
      ]
     },
     "execution_count": 5,
     "metadata": {},
     "output_type": "execute_result"
    }
   ],
   "source": [
    "vacation_no_cloud = dropna_weather_data[dropna_weather_data[\"Cloudiness\"] == 0]\n",
    "vacation_above_70_degrees = vacation_no_cloud[vacation_no_cloud[\"Max Temp\"] > 70]\n",
    "vacation_below_80_degrees = vacation_above_70_degrees[vacation_above_70_degrees[\"Max Temp\"] < 80]\n",
    "vacation_slow_wind = vacation_below_80_degrees[vacation_below_80_degrees[\"Wind Speed\"] < 10]\n",
    "perfect_vacation = vacation_slow_wind[vacation_slow_wind[\"Humidity\"] < 60]\n",
    "\n",
    "indexed_perfect_vacation = perfect_vacation.reset_index()\n",
    "del indexed_perfect_vacation[\"index\"]\n",
    "indexed_perfect_vacation"
   ]
  },
  {
   "cell_type": "code",
   "execution_count": 6,
   "metadata": {},
   "outputs": [
    {
     "data": {
      "application/vnd.jupyter.widget-view+json": {
       "model_id": "61101f82b8204cc8ab56af36d3a9455d",
       "version_major": 2,
       "version_minor": 0
      },
      "text/plain": [
       "Figure(layout=FigureLayout(height='420px'))"
      ]
     },
     "metadata": {},
     "output_type": "display_data"
    }
   ],
   "source": [
    "vaca_locations = indexed_perfect_vacation[[\"Lat\", \"Long\"]]\n",
    "\n",
    "vaca_humidity = indexed_perfect_vacation[\"Humidity\"].astype(float)\n",
    "\n",
    "vaca_fig = gmaps.figure()\n",
    "\n",
    "vaca_heat_layer = gmaps.heatmap_layer(vaca_locations, weights=vaca_humidity, \n",
    "                                 dissipating=False, max_intensity=50,\n",
    "                                 point_radius=2.5)\n",
    "\n",
    "vaca_fig.add_layer(vaca_heat_layer)\n",
    "\n",
    "vaca_fig"
   ]
  },
  {
   "cell_type": "markdown",
   "metadata": {},
   "source": [
    "### Hotel Map\n",
    "* Store into variable named `hotel_df`.\n",
    "* Add a \"Hotel Name\" column to the DataFrame.\n",
    "* Set parameters to search for hotels with 5000 meters.\n",
    "* Hit the Google Places API for each city's coordinates.\n",
    "* Store the first Hotel result into the DataFrame.\n",
    "* Plot markers on top of the heatmap."
   ]
  },
  {
   "cell_type": "code",
   "execution_count": 7,
   "metadata": {},
   "outputs": [
    {
     "data": {
      "text/html": [
       "<div>\n",
       "<style scoped>\n",
       "    .dataframe tbody tr th:only-of-type {\n",
       "        vertical-align: middle;\n",
       "    }\n",
       "\n",
       "    .dataframe tbody tr th {\n",
       "        vertical-align: top;\n",
       "    }\n",
       "\n",
       "    .dataframe thead th {\n",
       "        text-align: right;\n",
       "    }\n",
       "</style>\n",
       "<table border=\"1\" class=\"dataframe\">\n",
       "  <thead>\n",
       "    <tr style=\"text-align: right;\">\n",
       "      <th></th>\n",
       "      <th>City</th>\n",
       "      <th>Cloudiness</th>\n",
       "      <th>Country</th>\n",
       "      <th>Date</th>\n",
       "      <th>Humidity</th>\n",
       "      <th>Lat</th>\n",
       "      <th>Long</th>\n",
       "      <th>Max Temp</th>\n",
       "      <th>Wind Speed</th>\n",
       "      <th>Nearest Hotel</th>\n",
       "    </tr>\n",
       "  </thead>\n",
       "  <tbody>\n",
       "    <tr>\n",
       "      <th>0</th>\n",
       "      <td>iquique</td>\n",
       "      <td>0.0</td>\n",
       "      <td>CL</td>\n",
       "      <td>1.615614e+09</td>\n",
       "      <td>56.0</td>\n",
       "      <td>-20.2208</td>\n",
       "      <td>-70.1431</td>\n",
       "      <td>71.6</td>\n",
       "      <td>3.44</td>\n",
       "      <td>Backpacker`s Hostel Iquique</td>\n",
       "    </tr>\n",
       "    <tr>\n",
       "      <th>1</th>\n",
       "      <td>panzhihua</td>\n",
       "      <td>0.0</td>\n",
       "      <td>CN</td>\n",
       "      <td>1.615614e+09</td>\n",
       "      <td>27.0</td>\n",
       "      <td>26.5851</td>\n",
       "      <td>101.7128</td>\n",
       "      <td>75.0</td>\n",
       "      <td>1.32</td>\n",
       "      <td>Electric Power Hotel</td>\n",
       "    </tr>\n",
       "  </tbody>\n",
       "</table>\n",
       "</div>"
      ],
      "text/plain": [
       "        City  Cloudiness Country          Date  Humidity      Lat      Long  \\\n",
       "0    iquique         0.0      CL  1.615614e+09      56.0 -20.2208  -70.1431   \n",
       "1  panzhihua         0.0      CN  1.615614e+09      27.0  26.5851  101.7128   \n",
       "\n",
       "   Max Temp  Wind Speed                Nearest Hotel  \n",
       "0      71.6        3.44  Backpacker`s Hostel Iquique  \n",
       "1      75.0        1.32         Electric Power Hotel  "
      ]
     },
     "execution_count": 7,
     "metadata": {},
     "output_type": "execute_result"
    }
   ],
   "source": [
    "hotels = []\n",
    "\n",
    "for city in range(len(indexed_perfect_vacation[\"City\"])):\n",
    "\n",
    "    lat = indexed_perfect_vacation.loc[city][\"Lat\"]\n",
    "    lng = indexed_perfect_vacation.loc[city][\"Long\"]\n",
    "\n",
    "    city_coords = f\"{lat},{lng}\"\n",
    "\n",
    "    params = {\n",
    "        \"location\": city_coords, \n",
    "        \"types\": \"lodging\",\n",
    "        \"radius\": 5000,\n",
    "        \"key\": g_key\n",
    "    }\n",
    "\n",
    "    base_url = \"https://maps.googleapis.com/maps/api/place/nearbysearch/json\"   \n",
    "\n",
    "    hotel_request = requests.get(base_url, params=params)\n",
    "    hotel_response = hotel_request.json()\n",
    "\n",
    "    try:\n",
    "        hotels.append(hotel_response[\"results\"][0][\"name\"])\n",
    "    except:\n",
    "        hotels.append(\"Nearest hotel not found\")\n",
    "\n",
    "indexed_perfect_vacation[\"Nearest Hotel\"] = hotels\n",
    "indexed_perfect_vacation"
   ]
  },
  {
   "cell_type": "code",
   "execution_count": 8,
   "metadata": {},
   "outputs": [],
   "source": [
    "# Using the template add the hotel marks to the heatmap\n",
    "info_box_template = \"\"\"\n",
    "<dl>\n",
    "<dt>Name</dt><dd>{Nearest Hotel}</dd>\n",
    "<dt>City</dt><dd>{City}</dd>\n",
    "<dt>Country</dt><dd>{Country}</dd>\n",
    "</dl>\n",
    "\"\"\"\n",
    "# Store the DataFrame Row\n",
    "# NOTE: be sure to update with your DataFrame name\n",
    "hotel_info = [info_box_template.format(**row) for index, row in indexed_perfect_vacation.iterrows()]\n",
    "locations = indexed_perfect_vacation[[\"Lat\", \"Long\"]]"
   ]
  },
  {
   "cell_type": "code",
   "execution_count": 9,
   "metadata": {},
   "outputs": [
    {
     "data": {
      "application/vnd.jupyter.widget-view+json": {
       "model_id": "61101f82b8204cc8ab56af36d3a9455d",
       "version_major": 2,
       "version_minor": 0
      },
      "text/plain": [
       "Figure(layout=FigureLayout(height='420px'))"
      ]
     },
     "metadata": {},
     "output_type": "display_data"
    }
   ],
   "source": [
    "# Add marker layer ontop of heat map\n",
    "markers = gmaps.marker_layer(locations, info_box_content= [f\"Nearest Hotel: {hotel}\" for hotel in hotels])\n",
    "vaca_fig.add_layer(markers)\n",
    "\n",
    "# Display Map\n",
    "vaca_fig"
   ]
  },
  {
   "cell_type": "code",
   "execution_count": null,
   "metadata": {},
   "outputs": [],
   "source": []
  }
 ],
 "metadata": {
  "kernelspec": {
   "display_name": "Python 3",
   "language": "python",
   "name": "python3"
  },
  "language_info": {
   "codemirror_mode": {
    "name": "ipython",
    "version": 3
   },
   "file_extension": ".py",
   "mimetype": "text/x-python",
   "name": "python",
   "nbconvert_exporter": "python",
   "pygments_lexer": "ipython3",
   "version": "3.8.5"
  },
  "latex_envs": {
   "LaTeX_envs_menu_present": true,
   "autoclose": false,
   "autocomplete": true,
   "bibliofile": "biblio.bib",
   "cite_by": "apalike",
   "current_citInitial": 1,
   "eqLabelWithNumbers": true,
   "eqNumInitial": 1,
   "hotkeys": {
    "equation": "Ctrl-E",
    "itemize": "Ctrl-I"
   },
   "labels_anchors": false,
   "latex_user_defs": false,
   "report_style_numbering": false,
   "user_envs_cfg": false
  }
 },
 "nbformat": 4,
 "nbformat_minor": 4
}
